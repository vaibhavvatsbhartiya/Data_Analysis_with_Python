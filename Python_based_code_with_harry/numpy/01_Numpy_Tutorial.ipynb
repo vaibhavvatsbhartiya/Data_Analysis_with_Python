{
 "cells": [
  {
   "cell_type": "markdown",
   "id": "2812294b-8579-4bed-be77-4b26dfa12044",
   "metadata": {},
   "source": [
    "## Welcome to the Numpy Tutorials "
   ]
  },
  {
   "cell_type": "code",
   "execution_count": 1,
   "id": "8ae8d761-6960-46d4-b8c3-cafd0bf00371",
   "metadata": {},
   "outputs": [],
   "source": [
    "import numpy as np"
   ]
  },
  {
   "cell_type": "code",
   "execution_count": 2,
   "id": "84009f82-f12b-4e59-bc63-791aeddff924",
   "metadata": {},
   "outputs": [],
   "source": [
    "my_arr = np.array([[0,1,2], [3,4,5]], np.int32) # it's a 2d array created with using np.array()"
   ]
  },
  {
   "cell_type": "code",
   "execution_count": 3,
   "id": "de2d6690-9d0d-4847-bc56-a4fb7c895782",
   "metadata": {},
   "outputs": [
    {
     "name": "stdout",
     "output_type": "stream",
     "text": [
      "[[0 1 2]\n",
      " [3 4 5]]\n"
     ]
    }
   ],
   "source": [
    "print(my_arr)"
   ]
  },
  {
   "cell_type": "code",
   "execution_count": 4,
   "id": "a0c0587c-5eaf-4362-9649-0d45aeff7894",
   "metadata": {},
   "outputs": [
    {
     "data": {
      "text/plain": [
       "array([[0, 1, 2],\n",
       "       [3, 4, 5]], dtype=int32)"
      ]
     },
     "execution_count": 4,
     "metadata": {},
     "output_type": "execute_result"
    }
   ],
   "source": [
    "my_arr"
   ]
  },
  {
   "cell_type": "code",
   "execution_count": 5,
   "id": "b7ac4099-134c-404b-8d8a-6abc5c13b637",
   "metadata": {},
   "outputs": [
    {
     "data": {
      "text/plain": [
       "dtype('int32')"
      ]
     },
     "execution_count": 5,
     "metadata": {},
     "output_type": "execute_result"
    }
   ],
   "source": [
    "my_arr.dtype"
   ]
  },
  {
   "cell_type": "code",
   "execution_count": 6,
   "id": "2d20e4c3-ecbc-47d4-9309-be0f91bc8756",
   "metadata": {},
   "outputs": [
    {
     "data": {
      "text/plain": [
       "(2, 3)"
      ]
     },
     "execution_count": 6,
     "metadata": {},
     "output_type": "execute_result"
    }
   ],
   "source": [
    "my_arr.shape"
   ]
  },
  {
   "cell_type": "code",
   "execution_count": 7,
   "id": "e0f2592b-d7ca-4ef4-a56e-ef4468ef906f",
   "metadata": {},
   "outputs": [
    {
     "data": {
      "text/plain": [
       "np.int32(2)"
      ]
     },
     "execution_count": 7,
     "metadata": {},
     "output_type": "execute_result"
    }
   ],
   "source": [
    "my_arr[0,2]"
   ]
  },
  {
   "cell_type": "markdown",
   "id": "61477956-1d93-4ee8-8e21-75d0eb2ea011",
   "metadata": {},
   "source": [
    "### Array conversion: conversion from other python stractures"
   ]
  },
  {
   "cell_type": "code",
   "execution_count": 8,
   "id": "52e45e3f-2c51-4304-8467-0de8d4602bb7",
   "metadata": {},
   "outputs": [],
   "source": [
    "listarray = np.array([[1,2,3],[4,5,6],[7,8,9]]) # below i can use some built-in function"
   ]
  },
  {
   "cell_type": "code",
   "execution_count": 9,
   "id": "30ec9ccc-2c61-445e-b907-914f40941ac4",
   "metadata": {},
   "outputs": [
    {
     "data": {
      "text/plain": [
       "array([[1, 2, 3],\n",
       "       [4, 5, 6],\n",
       "       [7, 8, 9]])"
      ]
     },
     "execution_count": 9,
     "metadata": {},
     "output_type": "execute_result"
    }
   ],
   "source": [
    "listarray"
   ]
  },
  {
   "cell_type": "code",
   "execution_count": 17,
   "id": "62e7fd1b-ef10-4b4e-9965-89dc3d5d9100",
   "metadata": {},
   "outputs": [
    {
     "data": {
      "text/plain": [
       "dtype('int64')"
      ]
     },
     "execution_count": 17,
     "metadata": {},
     "output_type": "execute_result"
    }
   ],
   "source": [
    "listarray.dtype"
   ]
  },
  {
   "cell_type": "code",
   "execution_count": 18,
   "id": "e01a8c8d-2142-420a-a813-1fabf89f4e34",
   "metadata": {},
   "outputs": [
    {
     "data": {
      "text/plain": [
       "(3, 3)"
      ]
     },
     "execution_count": 18,
     "metadata": {},
     "output_type": "execute_result"
    }
   ],
   "source": [
    "listarray.shape"
   ]
  },
  {
   "cell_type": "code",
   "execution_count": 19,
   "id": "7dce6a4c-13af-4a5f-a5cf-41e2cb6022c5",
   "metadata": {},
   "outputs": [
    {
     "data": {
      "text/plain": [
       "9"
      ]
     },
     "execution_count": 19,
     "metadata": {},
     "output_type": "execute_result"
    }
   ],
   "source": [
    "listarray.size"
   ]
  },
  {
   "cell_type": "code",
   "execution_count": 23,
   "id": "bc81d365-a926-44b3-92f5-95694034eb52",
   "metadata": {},
   "outputs": [],
   "source": [
    "# let us supponse apn ik set le latee hai, so woh efficient nhi hota hai. Thus, We use int or float type only for np array."
   ]
  },
  {
   "cell_type": "code",
   "execution_count": 21,
   "id": "eeb25f37-a134-4bbf-b415-a563d9408a14",
   "metadata": {},
   "outputs": [],
   "source": [
    "iklist = np.array({1,2,3,4,5,6,7,8,9})"
   ]
  },
  {
   "cell_type": "code",
   "execution_count": 22,
   "id": "eb9fb6ae-0e39-45cf-8871-e69ee3391db1",
   "metadata": {},
   "outputs": [
    {
     "data": {
      "text/plain": [
       "array({1, 2, 3, 4, 5, 6, 7, 8, 9}, dtype=object)"
      ]
     },
     "execution_count": 22,
     "metadata": {},
     "output_type": "execute_result"
    }
   ],
   "source": [
    "iklist"
   ]
  },
  {
   "cell_type": "code",
   "execution_count": 24,
   "id": "b63462af-afb7-493b-96a7-5ccea9105362",
   "metadata": {},
   "outputs": [],
   "source": [
    "# functions provide to us by np for the creation of array"
   ]
  },
  {
   "cell_type": "code",
   "execution_count": 25,
   "id": "3e7f2476-319e-4866-979c-891e5c823599",
   "metadata": {},
   "outputs": [],
   "source": [
    "zeroes = np.zeros((2,5)) # use to create a array with values 0"
   ]
  },
  {
   "cell_type": "code",
   "execution_count": 26,
   "id": "2e69362c-04ab-4e6f-b726-bf7b98848df4",
   "metadata": {},
   "outputs": [
    {
     "data": {
      "text/plain": [
       "array([[0., 0., 0., 0., 0.],\n",
       "       [0., 0., 0., 0., 0.]])"
      ]
     },
     "execution_count": 26,
     "metadata": {},
     "output_type": "execute_result"
    }
   ],
   "source": [
    "zeroes"
   ]
  },
  {
   "cell_type": "code",
   "execution_count": 33,
   "id": "3496f65e-f3d5-4dce-959f-63bcabe6b389",
   "metadata": {},
   "outputs": [],
   "source": [
    "arange = np.arange(12) # it is use to create a array some similar to range in python. \n",
    "# As i pass 12 so it create a np array having values in range (0,12)"
   ]
  },
  {
   "cell_type": "code",
   "execution_count": 29,
   "id": "5af646da-2644-4019-a29e-3f675b63e20b",
   "metadata": {},
   "outputs": [
    {
     "data": {
      "text/plain": [
       "array([ 0,  1,  2,  3,  4,  5,  6,  7,  8,  9, 10, 11])"
      ]
     },
     "execution_count": 29,
     "metadata": {},
     "output_type": "execute_result"
    }
   ],
   "source": [
    "arange"
   ]
  },
  {
   "cell_type": "code",
   "execution_count": 31,
   "id": "9a8b1df5-4389-4527-a84c-3aa41fe090b3",
   "metadata": {},
   "outputs": [],
   "source": [
    "lspace = np.linspace(1,5,4) # it provide us a array having a linear space\n",
    "# Syntax: linspace(Num1, Num2, Total_number_i_want) \n",
    "# Num1: starting range\n",
    "# Num2: ending range\n",
    "# Total_number_i_want : the number i want\n",
    "# As i saw linspace(1,5,4). therefore the range is set in between (1,5) and total number i want is 4"
   ]
  },
  {
   "cell_type": "code",
   "execution_count": 32,
   "id": "eb7e0ddc-f101-4e1e-b06f-4aff5395c289",
   "metadata": {},
   "outputs": [
    {
     "data": {
      "text/plain": [
       "array([1.        , 2.33333333, 3.66666667, 5.        ])"
      ]
     },
     "execution_count": 32,
     "metadata": {},
     "output_type": "execute_result"
    }
   ],
   "source": [
    "lspace"
   ]
  },
  {
   "cell_type": "code",
   "execution_count": 34,
   "id": "6b99d8b7-86a9-4304-911a-2aaa2e4ac274",
   "metadata": {},
   "outputs": [],
   "source": [
    "# see array contains 4 values having equal space in between them"
   ]
  },
  {
   "cell_type": "code",
   "execution_count": 35,
   "id": "7f0bb4ae-e707-4145-bd2c-35ac4cb884c0",
   "metadata": {},
   "outputs": [],
   "source": [
    "emp = np.empty((4,6)) # it usually create a empty array and assign it random values\n",
    "# now it's upto me that assign the values accordingly"
   ]
  },
  {
   "cell_type": "code",
   "execution_count": 36,
   "id": "55265386-80a0-4ab6-8251-d07f7ec0a67f",
   "metadata": {},
   "outputs": [
    {
     "data": {
      "text/plain": [
       "array([[4.67296746e-307, 1.69121096e-306, 1.06811354e-306,\n",
       "        4.45058910e-308, 1.69121367e-306, 1.42419938e-306],\n",
       "       [7.56603881e-307, 8.45603440e-307, 3.56043054e-307,\n",
       "        1.60219306e-306, 6.23059726e-307, 1.06811422e-306],\n",
       "       [3.56043054e-307, 1.37961641e-306, 1.00132483e-307,\n",
       "        8.01097889e-307, 1.78020169e-306, 7.56601165e-307],\n",
       "       [1.02359984e-306, 1.33510679e-306, 2.22522597e-306,\n",
       "        1.11260144e-306, 6.89812281e-307, 2.22522596e-306]])"
      ]
     },
     "execution_count": 36,
     "metadata": {},
     "output_type": "execute_result"
    }
   ],
   "source": [
    "emp"
   ]
  },
  {
   "cell_type": "code",
   "execution_count": 37,
   "id": "09f5af1a-b83c-4231-8f80-2a3bfb28e6c6",
   "metadata": {},
   "outputs": [],
   "source": [
    "emp_like = np.empty_like(lspace)\n",
    "# it is use to create a empty array using the previous one having the same size and dimension."
   ]
  },
  {
   "cell_type": "code",
   "execution_count": 38,
   "id": "6b675482-21a2-4001-9e97-16e9e9e9f0a4",
   "metadata": {},
   "outputs": [
    {
     "data": {
      "text/plain": [
       "array([1.        , 2.33333333, 3.66666667, 5.        ])"
      ]
     },
     "execution_count": 38,
     "metadata": {},
     "output_type": "execute_result"
    }
   ],
   "source": [
    "emp_like"
   ]
  },
  {
   "cell_type": "code",
   "execution_count": 39,
   "id": "44796882-8c42-4c6d-95ca-9a2f93e96e12",
   "metadata": {},
   "outputs": [],
   "source": [
    "# see the lspace array and emp_like have same dimensions"
   ]
  },
  {
   "cell_type": "code",
   "execution_count": 40,
   "id": "1f930260-0879-42bb-9117-14293a1abad1",
   "metadata": {},
   "outputs": [],
   "source": [
    "ide = np.identity(10)\n",
    "# usually use to create a identity matrix according to the parametre\n",
    "# here i pass 10 and thus i get a 10x10 matrix"
   ]
  },
  {
   "cell_type": "code",
   "execution_count": 42,
   "id": "b95e1b7c-28cf-4ed8-8b33-a5dc4c8e40e0",
   "metadata": {},
   "outputs": [
    {
     "data": {
      "text/plain": [
       "array([[1., 0., 0., 0., 0., 0., 0., 0., 0., 0.],\n",
       "       [0., 1., 0., 0., 0., 0., 0., 0., 0., 0.],\n",
       "       [0., 0., 1., 0., 0., 0., 0., 0., 0., 0.],\n",
       "       [0., 0., 0., 1., 0., 0., 0., 0., 0., 0.],\n",
       "       [0., 0., 0., 0., 1., 0., 0., 0., 0., 0.],\n",
       "       [0., 0., 0., 0., 0., 1., 0., 0., 0., 0.],\n",
       "       [0., 0., 0., 0., 0., 0., 1., 0., 0., 0.],\n",
       "       [0., 0., 0., 0., 0., 0., 0., 1., 0., 0.],\n",
       "       [0., 0., 0., 0., 0., 0., 0., 0., 1., 0.],\n",
       "       [0., 0., 0., 0., 0., 0., 0., 0., 0., 1.]])"
      ]
     },
     "execution_count": 42,
     "metadata": {},
     "output_type": "execute_result"
    }
   ],
   "source": [
    "ide"
   ]
  },
  {
   "cell_type": "code",
   "execution_count": 43,
   "id": "8ae10c35-3683-4f84-9c67-4a6d3f7e5ec8",
   "metadata": {},
   "outputs": [
    {
     "data": {
      "text/plain": [
       "(10, 10)"
      ]
     },
     "execution_count": 43,
     "metadata": {},
     "output_type": "execute_result"
    }
   ],
   "source": [
    "ide.shape"
   ]
  },
  {
   "cell_type": "code",
   "execution_count": 44,
   "id": "56db4f4f-c65a-43eb-953d-17227455ee44",
   "metadata": {},
   "outputs": [
    {
     "data": {
      "text/plain": [
       "100"
      ]
     },
     "execution_count": 44,
     "metadata": {},
     "output_type": "execute_result"
    }
   ],
   "source": [
    "ide.size"
   ]
  },
  {
   "cell_type": "code",
   "execution_count": 11,
   "id": "452783cc-2f82-4fed-9ef7-a5081684ae52",
   "metadata": {},
   "outputs": [],
   "source": [
    "array = np.arange(40)"
   ]
  },
  {
   "cell_type": "code",
   "execution_count": 13,
   "id": "8d5f6d49-dc22-4371-b1d5-506ad33a8efe",
   "metadata": {},
   "outputs": [
    {
     "data": {
      "text/plain": [
       "array([ 0,  1,  2,  3,  4,  5,  6,  7,  8,  9, 10, 11, 12, 13, 14, 15, 16,\n",
       "       17, 18, 19, 20, 21, 22, 23, 24, 25, 26, 27, 28, 29, 30, 31, 32, 33,\n",
       "       34, 35, 36, 37, 38, 39])"
      ]
     },
     "execution_count": 13,
     "metadata": {},
     "output_type": "execute_result"
    }
   ],
   "source": [
    "array\n",
    "# currently its a id array"
   ]
  },
  {
   "cell_type": "code",
   "execution_count": 14,
   "id": "4e9fc6fd-9906-4fe0-97ae-2c7c4ed66c74",
   "metadata": {},
   "outputs": [],
   "source": [
    "ab = array.reshape(4,10)"
   ]
  },
  {
   "cell_type": "code",
   "execution_count": 15,
   "id": "9868e957-944f-4d62-8b66-4fd3e1db6e20",
   "metadata": {},
   "outputs": [
    {
     "data": {
      "text/plain": [
       "array([[ 0,  1,  2,  3,  4,  5,  6,  7,  8,  9],\n",
       "       [10, 11, 12, 13, 14, 15, 16, 17, 18, 19],\n",
       "       [20, 21, 22, 23, 24, 25, 26, 27, 28, 29],\n",
       "       [30, 31, 32, 33, 34, 35, 36, 37, 38, 39]])"
      ]
     },
     "execution_count": 15,
     "metadata": {},
     "output_type": "execute_result"
    }
   ],
   "source": [
    "ab"
   ]
  },
  {
   "cell_type": "code",
   "execution_count": 16,
   "id": "ad1a0cf7-d7cd-4e37-b7ba-84f6b6b82f41",
   "metadata": {},
   "outputs": [
    {
     "data": {
      "text/plain": [
       "(4, 10)"
      ]
     },
     "execution_count": 16,
     "metadata": {},
     "output_type": "execute_result"
    }
   ],
   "source": [
    "ab.shape"
   ]
  },
  {
   "cell_type": "code",
   "execution_count": 19,
   "id": "29c89655-a59f-4077-8fc3-dd009b7e2e31",
   "metadata": {},
   "outputs": [
    {
     "ename": "ValueError",
     "evalue": "cannot reshape array of size 40 into shape (3,10)",
     "output_type": "error",
     "traceback": [
      "\u001b[1;31m---------------------------------------------------------------------------\u001b[0m",
      "\u001b[1;31mValueError\u001b[0m                                Traceback (most recent call last)",
      "Cell \u001b[1;32mIn[19], line 1\u001b[0m\n\u001b[1;32m----> 1\u001b[0m kuda \u001b[38;5;241m=\u001b[39m \u001b[43marray\u001b[49m\u001b[38;5;241;43m.\u001b[39;49m\u001b[43mreshape\u001b[49m\u001b[43m(\u001b[49m\u001b[38;5;241;43m3\u001b[39;49m\u001b[43m,\u001b[49m\u001b[38;5;241;43m10\u001b[39;49m\u001b[43m)\u001b[49m\n\u001b[0;32m      2\u001b[0m \u001b[38;5;66;03m# see error.\u001b[39;00m\n\u001b[0;32m      3\u001b[0m \u001b[38;5;66;03m# make sure when we use array all values should be include in the newly created array in a mathematical order.\u001b[39;00m\n\u001b[0;32m      4\u001b[0m \u001b[38;5;66;03m# eg: if i use (4,11) error is same as it exceeds the limit.\u001b[39;00m\n",
      "\u001b[1;31mValueError\u001b[0m: cannot reshape array of size 40 into shape (3,10)"
     ]
    }
   ],
   "source": [
    "kuda = array.reshape(3,10)\n",
    "# see error.\n",
    "# make sure when we use array all values should be include in the newly created array in a mathematical order.\n",
    "# eg: if i use (4,11) error is same as it exceeds the limit."
   ]
  },
  {
   "cell_type": "code",
   "execution_count": 24,
   "id": "f9e338fd-3fa4-47db-8260-3939cf6ec211",
   "metadata": {},
   "outputs": [],
   "source": [
    "cd = ab.ravel()\n",
    "# use to convert the existing array in 1D array"
   ]
  },
  {
   "cell_type": "code",
   "execution_count": 25,
   "id": "af5336ae-a6cc-4cc8-8cd6-c0ab82fc7cc0",
   "metadata": {},
   "outputs": [
    {
     "data": {
      "text/plain": [
       "(40,)"
      ]
     },
     "execution_count": 25,
     "metadata": {},
     "output_type": "execute_result"
    }
   ],
   "source": [
    "cd.shape"
   ]
  },
  {
   "cell_type": "code",
   "execution_count": 26,
   "id": "9bb7affc-2b48-4d04-90a5-e91c3265b791",
   "metadata": {},
   "outputs": [
    {
     "data": {
      "text/plain": [
       "40"
      ]
     },
     "execution_count": 26,
     "metadata": {},
     "output_type": "execute_result"
    }
   ],
   "source": [
    "cd.size"
   ]
  },
  {
   "cell_type": "markdown",
   "id": "c4071304-d781-49a1-b6da-7d5d64663e44",
   "metadata": {},
   "source": [
    "#### Numpy Axis\n",
    "\n",
    "**rows: axis0** \n",
    "\n",
    "**columns: axis1**\n",
    "\n",
    "1. while i perform action on axis0 it will use all the rows\n",
    "2. while i perform action on axis1 it will use all the columns"
   ]
  },
  {
   "cell_type": "code",
   "execution_count": 27,
   "id": "798ba409-a140-43bd-a47d-c039bb043659",
   "metadata": {},
   "outputs": [],
   "source": [
    "x = ([1,2,3], [4,5,6], [7,8,9])"
   ]
  },
  {
   "cell_type": "code",
   "execution_count": 28,
   "id": "ddd864f0-c21a-475f-a791-28a1abccef9f",
   "metadata": {},
   "outputs": [],
   "source": [
    "a = np.array(x)"
   ]
  },
  {
   "cell_type": "code",
   "execution_count": 29,
   "id": "e6b37712-4824-47e5-b6de-1b163d03d6c1",
   "metadata": {},
   "outputs": [
    {
     "data": {
      "text/plain": [
       "array([[1, 2, 3],\n",
       "       [4, 5, 6],\n",
       "       [7, 8, 9]])"
      ]
     },
     "execution_count": 29,
     "metadata": {},
     "output_type": "execute_result"
    }
   ],
   "source": [
    "a"
   ]
  },
  {
   "cell_type": "code",
   "execution_count": 30,
   "id": "f150d336-53e2-4252-a387-226317aa6787",
   "metadata": {},
   "outputs": [
    {
     "data": {
      "text/plain": [
       "array([12, 15, 18])"
      ]
     },
     "execution_count": 30,
     "metadata": {},
     "output_type": "execute_result"
    }
   ],
   "source": [
    "a.sum(axis = 0)"
   ]
  },
  {
   "cell_type": "code",
   "execution_count": 31,
   "id": "172506eb-316f-4f01-bb08-784cd5a528e5",
   "metadata": {},
   "outputs": [
    {
     "data": {
      "text/plain": [
       "array([ 6, 15, 24])"
      ]
     },
     "execution_count": 31,
     "metadata": {},
     "output_type": "execute_result"
    }
   ],
   "source": [
    "a.sum(axis = 1)"
   ]
  },
  {
   "cell_type": "code",
   "execution_count": 32,
   "id": "d050e196-d8c6-4d7b-8bb3-a47bd0029d11",
   "metadata": {},
   "outputs": [
    {
     "data": {
      "text/plain": [
       "array([[1, 4, 7],\n",
       "       [2, 5, 8],\n",
       "       [3, 6, 9]])"
      ]
     },
     "execution_count": 32,
     "metadata": {},
     "output_type": "execute_result"
    }
   ],
   "source": [
    "a.T\n",
    "# use to transpose the arry"
   ]
  },
  {
   "cell_type": "code",
   "execution_count": 33,
   "id": "a8a1ccb0-add4-4f4e-975e-f373208c7996",
   "metadata": {},
   "outputs": [
    {
     "data": {
      "text/plain": [
       "<numpy.flatiter at 0x1ddcdd6fa90>"
      ]
     },
     "execution_count": 33,
     "metadata": {},
     "output_type": "execute_result"
    }
   ],
   "source": [
    "a.flat"
   ]
  },
  {
   "cell_type": "code",
   "execution_count": 34,
   "id": "3af1efc2-a3d2-40e3-b7e9-4421bde1457a",
   "metadata": {},
   "outputs": [
    {
     "name": "stdout",
     "output_type": "stream",
     "text": [
      "1\n",
      "2\n",
      "3\n",
      "4\n",
      "5\n",
      "6\n",
      "7\n",
      "8\n",
      "9\n"
     ]
    }
   ],
   "source": [
    "for item in a.flat:\n",
    "    print(item)"
   ]
  },
  {
   "cell_type": "code",
   "execution_count": 36,
   "id": "4fe5a4e6-a145-4507-9fd2-5bbb927af37c",
   "metadata": {},
   "outputs": [],
   "source": [
    "ary = np.array(x)"
   ]
  },
  {
   "cell_type": "code",
   "execution_count": 37,
   "id": "9c1b2149-a709-42ee-b09e-cfb79939711b",
   "metadata": {},
   "outputs": [
    {
     "data": {
      "text/plain": [
       "array([[1, 2, 3],\n",
       "       [4, 5, 6],\n",
       "       [7, 8, 9]])"
      ]
     },
     "execution_count": 37,
     "metadata": {},
     "output_type": "execute_result"
    }
   ],
   "source": [
    "ary\n"
   ]
  },
  {
   "cell_type": "code",
   "execution_count": 39,
   "id": "10706fe9-e006-4b5f-bcce-ddb3f8d1cbc7",
   "metadata": {},
   "outputs": [
    {
     "data": {
      "text/plain": [
       "2"
      ]
     },
     "execution_count": 39,
     "metadata": {},
     "output_type": "execute_result"
    }
   ],
   "source": [
    "ary.ndim\n",
    "# use to check the dimension"
   ]
  },
  {
   "cell_type": "code",
   "execution_count": 48,
   "id": "aafa0bf5-7405-4c82-abb0-5bfe8def6f60",
   "metadata": {},
   "outputs": [
    {
     "data": {
      "text/plain": [
       "72"
      ]
     },
     "execution_count": 48,
     "metadata": {},
     "output_type": "execute_result"
    }
   ],
   "source": [
    "ary.nbytes\n",
    "# this tell me about how much bytes is taken by our array"
   ]
  },
  {
   "cell_type": "code",
   "execution_count": 41,
   "id": "76176104-078d-4b56-8bac-70f79d48d1dd",
   "metadata": {},
   "outputs": [],
   "source": [
    "one = np.array([1,3,5,21,11,7])"
   ]
  },
  {
   "cell_type": "code",
   "execution_count": 45,
   "id": "8707a5a6-4633-42c2-b8e9-2f7eb08dffd2",
   "metadata": {},
   "outputs": [
    {
     "data": {
      "text/plain": [
       "array([ 1,  3,  5, 21, 11,  7])"
      ]
     },
     "execution_count": 45,
     "metadata": {},
     "output_type": "execute_result"
    }
   ],
   "source": [
    "one"
   ]
  },
  {
   "cell_type": "code",
   "execution_count": 46,
   "id": "1ff24671-cb81-4aa0-9e33-4a86cd31118c",
   "metadata": {},
   "outputs": [
    {
     "data": {
      "text/plain": [
       "np.int64(3)"
      ]
     },
     "execution_count": 46,
     "metadata": {},
     "output_type": "execute_result"
    }
   ],
   "source": [
    "one.argmax()\n",
    "# find the largest value and return its position"
   ]
  },
  {
   "cell_type": "code",
   "execution_count": 49,
   "id": "bdf442e2-56fb-4787-aadc-334e1908d937",
   "metadata": {},
   "outputs": [
    {
     "data": {
      "text/plain": [
       "np.int64(0)"
      ]
     },
     "execution_count": 49,
     "metadata": {},
     "output_type": "execute_result"
    }
   ],
   "source": [
    "one.argmin()\n",
    "# find the smallest value and return its position"
   ]
  },
  {
   "cell_type": "code",
   "execution_count": 51,
   "id": "9117be86-e0e2-40f7-a918-7494fc0f6715",
   "metadata": {},
   "outputs": [
    {
     "data": {
      "text/plain": [
       "array([0, 1, 2, 5, 4, 3])"
      ]
     },
     "execution_count": 51,
     "metadata": {},
     "output_type": "execute_result"
    }
   ],
   "source": [
    "one.argsort()\n",
    "# use to sort the array and provide their index(position in array)."
   ]
  },
  {
   "cell_type": "code",
   "execution_count": 53,
   "id": "d4e3b3b0-224e-4db2-b3e0-1259ff154324",
   "metadata": {},
   "outputs": [
    {
     "data": {
      "text/plain": [
       "(array([3, 4, 5]),)"
      ]
     },
     "execution_count": 53,
     "metadata": {},
     "output_type": "execute_result"
    }
   ],
   "source": [
    "np.where(one>5)\n",
    "# use to find the  values and it provide us index"
   ]
  },
  {
   "cell_type": "code",
   "execution_count": 57,
   "id": "3a65bcb3-7b71-45d2-9f08-8e85eab64bac",
   "metadata": {},
   "outputs": [],
   "source": [
    "# refer docs.scripy link for more info. go to google and type numpy functions and mehtods"
   ]
  },
  {
   "cell_type": "code",
   "execution_count": null,
   "id": "f819e23d-6b29-4b9c-8379-163549defbb6",
   "metadata": {},
   "outputs": [],
   "source": []
  }
 ],
 "metadata": {
  "kernelspec": {
   "display_name": "Python 3 (ipykernel)",
   "language": "python",
   "name": "python3"
  },
  "language_info": {
   "codemirror_mode": {
    "name": "ipython",
    "version": 3
   },
   "file_extension": ".py",
   "mimetype": "text/x-python",
   "name": "python",
   "nbconvert_exporter": "python",
   "pygments_lexer": "ipython3",
   "version": "3.12.4"
  }
 },
 "nbformat": 4,
 "nbformat_minor": 5
}
