{
 "cells": [
  {
   "cell_type": "code",
   "execution_count": 1,
   "id": "f22d375f-6c8b-4289-b85e-dda54f272ab6",
   "metadata": {},
   "outputs": [],
   "source": [
    "import numpy as np\n",
    "import pandas as pd"
   ]
  },
  {
   "cell_type": "code",
   "execution_count": 2,
   "id": "15131e62-4e78-4949-aef9-bf7a55a7fc49",
   "metadata": {},
   "outputs": [],
   "source": [
    "dict1 = {\n",
    "    \"name\":['Vaibhav', 'Aakash', 'Rohan', 'Mohan'],\n",
    "    \"city\":[100, 99, 95, 90],\n",
    "    \"roll_num\":[21, 22, 19, 20],\n",
    "    \"title\":['Godlike Great Emperor', 'Civil Warrior', 'Sara din confused', 'bechara, koi title nahi hai'],\n",
    "}"
   ]
  },
  {
   "cell_type": "code",
   "execution_count": 6,
   "id": "c0df5412-4abb-47fc-8b69-55ff3301b2fc",
   "metadata": {},
   "outputs": [],
   "source": [
    "df = pd.DataFrame(dict1) # Dataframe in pandas used to create a table."
   ]
  },
  {
   "cell_type": "code",
   "execution_count": 4,
   "id": "097b9b62-3422-4b9a-ba76-07515eb0c79b",
   "metadata": {},
   "outputs": [
    {
     "data": {
      "text/html": [
       "<div>\n",
       "<style scoped>\n",
       "    .dataframe tbody tr th:only-of-type {\n",
       "        vertical-align: middle;\n",
       "    }\n",
       "\n",
       "    .dataframe tbody tr th {\n",
       "        vertical-align: top;\n",
       "    }\n",
       "\n",
       "    .dataframe thead th {\n",
       "        text-align: right;\n",
       "    }\n",
       "</style>\n",
       "<table border=\"1\" class=\"dataframe\">\n",
       "  <thead>\n",
       "    <tr style=\"text-align: right;\">\n",
       "      <th></th>\n",
       "      <th>name</th>\n",
       "      <th>city</th>\n",
       "      <th>roll_num</th>\n",
       "      <th>title</th>\n",
       "    </tr>\n",
       "  </thead>\n",
       "  <tbody>\n",
       "    <tr>\n",
       "      <th>0</th>\n",
       "      <td>Vaibhav</td>\n",
       "      <td>100</td>\n",
       "      <td>21</td>\n",
       "      <td>Godlike Great Emperor</td>\n",
       "    </tr>\n",
       "    <tr>\n",
       "      <th>1</th>\n",
       "      <td>Aakash</td>\n",
       "      <td>99</td>\n",
       "      <td>22</td>\n",
       "      <td>Civil Warrior</td>\n",
       "    </tr>\n",
       "    <tr>\n",
       "      <th>2</th>\n",
       "      <td>Rohan</td>\n",
       "      <td>95</td>\n",
       "      <td>19</td>\n",
       "      <td>Sara din confused</td>\n",
       "    </tr>\n",
       "    <tr>\n",
       "      <th>3</th>\n",
       "      <td>Mohan</td>\n",
       "      <td>90</td>\n",
       "      <td>20</td>\n",
       "      <td>bechara, koi title nahi hai</td>\n",
       "    </tr>\n",
       "  </tbody>\n",
       "</table>\n",
       "</div>"
      ],
      "text/plain": [
       "      name  city  roll_num                        title\n",
       "0  Vaibhav   100        21        Godlike Great Emperor\n",
       "1   Aakash    99        22                Civil Warrior\n",
       "2    Rohan    95        19            Sara din confused\n",
       "3    Mohan    90        20  bechara, koi title nahi hai"
      ]
     },
     "execution_count": 4,
     "metadata": {},
     "output_type": "execute_result"
    }
   ],
   "source": [
    "df"
   ]
  },
  {
   "cell_type": "code",
   "execution_count": 8,
   "id": "fffbb85a-c5ae-41cc-9a4a-e154e3c7cba3",
   "metadata": {},
   "outputs": [],
   "source": [
    "df.to_csv('random_file.csv') \n",
    "# conversion of above data into excel sheet using 'to_csv' and pass file name in () as random_file.csv\n",
    "# df.to_csv('random_file.csv', index= False) ab yeh jo starting m numbering aa rahe the veh htt jie g"
   ]
  },
  {
   "cell_type": "code",
   "execution_count": 9,
   "id": "02a9fd2f-4e95-48b0-b785-5ce54272937a",
   "metadata": {},
   "outputs": [
    {
     "data": {
      "text/html": [
       "<div>\n",
       "<style scoped>\n",
       "    .dataframe tbody tr th:only-of-type {\n",
       "        vertical-align: middle;\n",
       "    }\n",
       "\n",
       "    .dataframe tbody tr th {\n",
       "        vertical-align: top;\n",
       "    }\n",
       "\n",
       "    .dataframe thead th {\n",
       "        text-align: right;\n",
       "    }\n",
       "</style>\n",
       "<table border=\"1\" class=\"dataframe\">\n",
       "  <thead>\n",
       "    <tr style=\"text-align: right;\">\n",
       "      <th></th>\n",
       "      <th>name</th>\n",
       "      <th>city</th>\n",
       "      <th>roll_num</th>\n",
       "      <th>title</th>\n",
       "    </tr>\n",
       "  </thead>\n",
       "  <tbody>\n",
       "    <tr>\n",
       "      <th>0</th>\n",
       "      <td>Vaibhav</td>\n",
       "      <td>100</td>\n",
       "      <td>21</td>\n",
       "      <td>Godlike Great Emperor</td>\n",
       "    </tr>\n",
       "  </tbody>\n",
       "</table>\n",
       "</div>"
      ],
      "text/plain": [
       "      name  city  roll_num                  title\n",
       "0  Vaibhav   100        21  Godlike Great Emperor"
      ]
     },
     "execution_count": 9,
     "metadata": {},
     "output_type": "execute_result"
    }
   ],
   "source": [
    "df.head(1) # head() use kro upr k data dekhne k lie\n",
    "# as data avi km hai but in reality data thousands of rows hote hai so use head() abd pass how many row i want to see as i pass\n",
    "# above 1 to see first row"
   ]
  },
  {
   "cell_type": "code",
   "execution_count": 10,
   "id": "cf6e879b-d7c8-4397-9ac1-5b7a4f63172e",
   "metadata": {},
   "outputs": [
    {
     "data": {
      "text/html": [
       "<div>\n",
       "<style scoped>\n",
       "    .dataframe tbody tr th:only-of-type {\n",
       "        vertical-align: middle;\n",
       "    }\n",
       "\n",
       "    .dataframe tbody tr th {\n",
       "        vertical-align: top;\n",
       "    }\n",
       "\n",
       "    .dataframe thead th {\n",
       "        text-align: right;\n",
       "    }\n",
       "</style>\n",
       "<table border=\"1\" class=\"dataframe\">\n",
       "  <thead>\n",
       "    <tr style=\"text-align: right;\">\n",
       "      <th></th>\n",
       "      <th>name</th>\n",
       "      <th>city</th>\n",
       "      <th>roll_num</th>\n",
       "      <th>title</th>\n",
       "    </tr>\n",
       "  </thead>\n",
       "  <tbody>\n",
       "    <tr>\n",
       "      <th>3</th>\n",
       "      <td>Mohan</td>\n",
       "      <td>90</td>\n",
       "      <td>20</td>\n",
       "      <td>bechara, koi title nahi hai</td>\n",
       "    </tr>\n",
       "  </tbody>\n",
       "</table>\n",
       "</div>"
      ],
      "text/plain": [
       "    name  city  roll_num                        title\n",
       "3  Mohan    90        20  bechara, koi title nahi hai"
      ]
     },
     "execution_count": 10,
     "metadata": {},
     "output_type": "execute_result"
    }
   ],
   "source": [
    "df.tail(1)  # tail() use kro last k data dekhne k lie\n",
    "# as data avi km hai but in reality data thousands of rows hote hai so use tail() abd pass how many row i want to see as i pass\n",
    "# above 1 to see last row"
   ]
  },
  {
   "cell_type": "code",
   "execution_count": 12,
   "id": "03c302aa-438a-4b96-b7ad-eabfd599f081",
   "metadata": {},
   "outputs": [
    {
     "data": {
      "text/html": [
       "<div>\n",
       "<style scoped>\n",
       "    .dataframe tbody tr th:only-of-type {\n",
       "        vertical-align: middle;\n",
       "    }\n",
       "\n",
       "    .dataframe tbody tr th {\n",
       "        vertical-align: top;\n",
       "    }\n",
       "\n",
       "    .dataframe thead th {\n",
       "        text-align: right;\n",
       "    }\n",
       "</style>\n",
       "<table border=\"1\" class=\"dataframe\">\n",
       "  <thead>\n",
       "    <tr style=\"text-align: right;\">\n",
       "      <th></th>\n",
       "      <th>city</th>\n",
       "      <th>roll_num</th>\n",
       "    </tr>\n",
       "  </thead>\n",
       "  <tbody>\n",
       "    <tr>\n",
       "      <th>count</th>\n",
       "      <td>4.000000</td>\n",
       "      <td>4.000000</td>\n",
       "    </tr>\n",
       "    <tr>\n",
       "      <th>mean</th>\n",
       "      <td>96.000000</td>\n",
       "      <td>20.500000</td>\n",
       "    </tr>\n",
       "    <tr>\n",
       "      <th>std</th>\n",
       "      <td>4.546061</td>\n",
       "      <td>1.290994</td>\n",
       "    </tr>\n",
       "    <tr>\n",
       "      <th>min</th>\n",
       "      <td>90.000000</td>\n",
       "      <td>19.000000</td>\n",
       "    </tr>\n",
       "    <tr>\n",
       "      <th>25%</th>\n",
       "      <td>93.750000</td>\n",
       "      <td>19.750000</td>\n",
       "    </tr>\n",
       "    <tr>\n",
       "      <th>50%</th>\n",
       "      <td>97.000000</td>\n",
       "      <td>20.500000</td>\n",
       "    </tr>\n",
       "    <tr>\n",
       "      <th>75%</th>\n",
       "      <td>99.250000</td>\n",
       "      <td>21.250000</td>\n",
       "    </tr>\n",
       "    <tr>\n",
       "      <th>max</th>\n",
       "      <td>100.000000</td>\n",
       "      <td>22.000000</td>\n",
       "    </tr>\n",
       "  </tbody>\n",
       "</table>\n",
       "</div>"
      ],
      "text/plain": [
       "             city   roll_num\n",
       "count    4.000000   4.000000\n",
       "mean    96.000000  20.500000\n",
       "std      4.546061   1.290994\n",
       "min     90.000000  19.000000\n",
       "25%     93.750000  19.750000\n",
       "50%     97.000000  20.500000\n",
       "75%     99.250000  21.250000\n",
       "max    100.000000  22.000000"
      ]
     },
     "execution_count": 12,
     "metadata": {},
     "output_type": "execute_result"
    }
   ],
   "source": [
    "df.describe() # yeh jo hai mere numerical values k count,mean,std,min,max etc ko calculate krta hai."
   ]
  },
  {
   "cell_type": "code",
   "execution_count": 15,
   "id": "fef6896f-8d92-44fb-b2f6-4aa45a7a0440",
   "metadata": {},
   "outputs": [],
   "source": [
    "read_file = pd.read_csv('random_file.csv') # use to read a csv file"
   ]
  },
  {
   "cell_type": "code",
   "execution_count": 16,
   "id": "5183fab7-12c0-4289-a819-5e8f1f289902",
   "metadata": {},
   "outputs": [
    {
     "data": {
      "text/html": [
       "<div>\n",
       "<style scoped>\n",
       "    .dataframe tbody tr th:only-of-type {\n",
       "        vertical-align: middle;\n",
       "    }\n",
       "\n",
       "    .dataframe tbody tr th {\n",
       "        vertical-align: top;\n",
       "    }\n",
       "\n",
       "    .dataframe thead th {\n",
       "        text-align: right;\n",
       "    }\n",
       "</style>\n",
       "<table border=\"1\" class=\"dataframe\">\n",
       "  <thead>\n",
       "    <tr style=\"text-align: right;\">\n",
       "      <th></th>\n",
       "      <th>Unnamed: 0</th>\n",
       "      <th>name</th>\n",
       "      <th>city</th>\n",
       "      <th>roll_num</th>\n",
       "      <th>title</th>\n",
       "    </tr>\n",
       "  </thead>\n",
       "  <tbody>\n",
       "    <tr>\n",
       "      <th>0</th>\n",
       "      <td>0</td>\n",
       "      <td>Vaibhav</td>\n",
       "      <td>100</td>\n",
       "      <td>21</td>\n",
       "      <td>Godlike Great Emperor</td>\n",
       "    </tr>\n",
       "    <tr>\n",
       "      <th>1</th>\n",
       "      <td>1</td>\n",
       "      <td>Aakash</td>\n",
       "      <td>99</td>\n",
       "      <td>22</td>\n",
       "      <td>Civil Warrior</td>\n",
       "    </tr>\n",
       "    <tr>\n",
       "      <th>2</th>\n",
       "      <td>2</td>\n",
       "      <td>Rohan</td>\n",
       "      <td>95</td>\n",
       "      <td>19</td>\n",
       "      <td>Sara din confused</td>\n",
       "    </tr>\n",
       "    <tr>\n",
       "      <th>3</th>\n",
       "      <td>3</td>\n",
       "      <td>Mohan</td>\n",
       "      <td>90</td>\n",
       "      <td>20</td>\n",
       "      <td>bechara, koi title nahi hai</td>\n",
       "    </tr>\n",
       "  </tbody>\n",
       "</table>\n",
       "</div>"
      ],
      "text/plain": [
       "   Unnamed: 0     name  city  roll_num                        title\n",
       "0           0  Vaibhav   100        21        Godlike Great Emperor\n",
       "1           1   Aakash    99        22                Civil Warrior\n",
       "2           2    Rohan    95        19            Sara din confused\n",
       "3           3    Mohan    90        20  bechara, koi title nahi hai"
      ]
     },
     "execution_count": 16,
     "metadata": {},
     "output_type": "execute_result"
    }
   ],
   "source": [
    "read_file"
   ]
  },
  {
   "cell_type": "code",
   "execution_count": 18,
   "id": "8957f39c-2ba5-42c0-bd9c-ce8390c04246",
   "metadata": {},
   "outputs": [
    {
     "data": {
      "text/plain": [
       "'bechara, koi title nahi hai'"
      ]
     },
     "execution_count": 18,
     "metadata": {},
     "output_type": "execute_result"
    }
   ],
   "source": [
    "read_file['title'][3]"
   ]
  },
  {
   "cell_type": "code",
   "execution_count": 19,
   "id": "c609d693-72cf-48fe-876c-3f310e743ff6",
   "metadata": {},
   "outputs": [
    {
     "name": "stderr",
     "output_type": "stream",
     "text": [
      "C:\\Users\\Ashish vats\\AppData\\Local\\Temp\\ipykernel_40968\\2399698154.py:2: FutureWarning: ChainedAssignmentError: behaviour will change in pandas 3.0!\n",
      "You are setting values through chained assignment. Currently this works in certain cases, but when using Copy-on-Write (which will become the default behaviour in pandas 3.0) this will never work to update the original DataFrame or Series, because the intermediate object on which we are setting values will behave as a copy.\n",
      "A typical example is when you are setting values in a column of a DataFrame, like:\n",
      "\n",
      "df[\"col\"][row_indexer] = value\n",
      "\n",
      "Use `df.loc[row_indexer, \"col\"] = values` instead, to perform the assignment in a single step and ensure this keeps updating the original `df`.\n",
      "\n",
      "See the caveats in the documentation: https://pandas.pydata.org/pandas-docs/stable/user_guide/indexing.html#returning-a-view-versus-a-copy\n",
      "\n",
      "  read_file['title'][3] = 'Title wala'\n",
      "C:\\Users\\Ashish vats\\AppData\\Local\\Temp\\ipykernel_40968\\2399698154.py:2: SettingWithCopyWarning: \n",
      "A value is trying to be set on a copy of a slice from a DataFrame\n",
      "\n",
      "See the caveats in the documentation: https://pandas.pydata.org/pandas-docs/stable/user_guide/indexing.html#returning-a-view-versus-a-copy\n",
      "  read_file['title'][3] = 'Title wala'\n"
     ]
    }
   ],
   "source": [
    "# now update the existing data. Although it's not good way but it is working\n",
    "read_file['title'][3] = 'Title wala'"
   ]
  },
  {
   "cell_type": "code",
   "execution_count": 20,
   "id": "3d7f4ae6-2e22-473a-801d-6a09204a22af",
   "metadata": {},
   "outputs": [
    {
     "data": {
      "text/html": [
       "<div>\n",
       "<style scoped>\n",
       "    .dataframe tbody tr th:only-of-type {\n",
       "        vertical-align: middle;\n",
       "    }\n",
       "\n",
       "    .dataframe tbody tr th {\n",
       "        vertical-align: top;\n",
       "    }\n",
       "\n",
       "    .dataframe thead th {\n",
       "        text-align: right;\n",
       "    }\n",
       "</style>\n",
       "<table border=\"1\" class=\"dataframe\">\n",
       "  <thead>\n",
       "    <tr style=\"text-align: right;\">\n",
       "      <th></th>\n",
       "      <th>Unnamed: 0</th>\n",
       "      <th>name</th>\n",
       "      <th>city</th>\n",
       "      <th>roll_num</th>\n",
       "      <th>title</th>\n",
       "    </tr>\n",
       "  </thead>\n",
       "  <tbody>\n",
       "    <tr>\n",
       "      <th>0</th>\n",
       "      <td>0</td>\n",
       "      <td>Vaibhav</td>\n",
       "      <td>100</td>\n",
       "      <td>21</td>\n",
       "      <td>Godlike Great Emperor</td>\n",
       "    </tr>\n",
       "    <tr>\n",
       "      <th>1</th>\n",
       "      <td>1</td>\n",
       "      <td>Aakash</td>\n",
       "      <td>99</td>\n",
       "      <td>22</td>\n",
       "      <td>Civil Warrior</td>\n",
       "    </tr>\n",
       "    <tr>\n",
       "      <th>2</th>\n",
       "      <td>2</td>\n",
       "      <td>Rohan</td>\n",
       "      <td>95</td>\n",
       "      <td>19</td>\n",
       "      <td>Sara din confused</td>\n",
       "    </tr>\n",
       "    <tr>\n",
       "      <th>3</th>\n",
       "      <td>3</td>\n",
       "      <td>Mohan</td>\n",
       "      <td>90</td>\n",
       "      <td>20</td>\n",
       "      <td>Title wala</td>\n",
       "    </tr>\n",
       "  </tbody>\n",
       "</table>\n",
       "</div>"
      ],
      "text/plain": [
       "   Unnamed: 0     name  city  roll_num                  title\n",
       "0           0  Vaibhav   100        21  Godlike Great Emperor\n",
       "1           1   Aakash    99        22          Civil Warrior\n",
       "2           2    Rohan    95        19      Sara din confused\n",
       "3           3    Mohan    90        20             Title wala"
      ]
     },
     "execution_count": 20,
     "metadata": {},
     "output_type": "execute_result"
    }
   ],
   "source": [
    "read_file"
   ]
  },
  {
   "cell_type": "code",
   "execution_count": null,
   "id": "458878d5-1d2d-4b19-a5fd-0498e7140ff4",
   "metadata": {},
   "outputs": [],
   "source": []
  }
 ],
 "metadata": {
  "kernelspec": {
   "display_name": "Python 3 (ipykernel)",
   "language": "python",
   "name": "python3"
  },
  "language_info": {
   "codemirror_mode": {
    "name": "ipython",
    "version": 3
   },
   "file_extension": ".py",
   "mimetype": "text/x-python",
   "name": "python",
   "nbconvert_exporter": "python",
   "pygments_lexer": "ipython3",
   "version": "3.12.4"
  }
 },
 "nbformat": 4,
 "nbformat_minor": 5
}
